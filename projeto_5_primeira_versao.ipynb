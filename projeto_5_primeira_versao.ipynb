{
 "cells": [
  {
   "cell_type": "markdown",
   "metadata": {},
   "source": [
    "\n",
    "\n",
    "Olá estudante!\n",
    "\n",
    "Me chamo Rafael Meirelles e irei revisar o seu projeto hoje e em eventuais futuras submissões até que ele cumpra todos os requisitos para o aceite.\n",
    "Conte comigo nessa jornada e não se preocupe se precisar ajustar alguns detalhes, é parte do processo e fundamental para que você exercite os conceitos que vem aprendendo e assim melhore a qualidade dos seus códigos e análises.\n",
    "\n",
    "**Peço que mantenha e não altereos comentários que eu fizer por aqui para que possamos nos localizar posteriormente, ok?**\n",
    "\n",
    "Mais uma coisa, vamos utilizar um código de cores para você entender os meus feedbacks no seu notebook. Funciona assim:\n",
    "\n",
    "\n",
    "<div class=\"alert alert-danger\">\n",
    "<strong>Vermelho</strong>\n",
    "\n",
    "Erro que precisa ser consertado, caso contrário, seu projeto não pode ser aceito\n",
    "\n",
    "</div>\n",
    "\n",
    "<div class=\"alert alert-warning\">\n",
    "<strong>Amarelo</strong>\n",
    "\n",
    "Alerta de um erro não crítco, mas que pode ser corrigido para melhoria geral no seu código/análise\n",
    "\n",
    "</div>\n",
    "\n",
    "<div class=\"alert alert-success\">\n",
    "<strong>Verde</strong>\n",
    "\n",
    "Elogios\n",
    "</div>\n",
    "\n",
    "<div class=\"alert alert-info\">\n",
    "<strong>Comentário do estudante</strong>\n",
    "\n",
    "Use uma caixa azul como essa para eventuais comentários que você gostaria de fazer para mim.\n",
    "</div>\n"
   ]
  },
  {
   "cell_type": "markdown",
   "metadata": {},
   "source": [
    "# Passo 1 - entender os dados"
   ]
  },
  {
   "cell_type": "markdown",
   "metadata": {},
   "source": [
    "<b> Antes de mais nada é interessante ter o que representa cada uma das colunas no arquivo\n",
    "    \n",
    "    —Name (nome)\n",
    "    —Platform (plataforma)\n",
    "    —Year_of_Release (Ano de lançamento)\n",
    "    —Genre(gênero)\n",
    "    —NA_sales (vendas norte-americanas em milhões de USD)\n",
    "    —EU_sales (vendas na Europa em milhões de USD)\n",
    "    —JP_sales (vendas no Japão em milhões de USD)\n",
    "    —Other_sales (vendas em outros países em em milhões de USD)\n",
    "    —Critic_Score - (Pontuação crítica) (máximo de 100)\n",
    "    —User_Score -  (Pontuação do usuário) (máximo de 10)\n",
    "    —Classificação (ESRB)\n",
    "    \n",
    "    Obs: Tentei deixar em negrito as informações referentes aos enunciados da parte da teoria do projeto. Demais respostas minhas aos pontos levantados estão na formatação normal"
   ]
  },
  {
   "cell_type": "code",
   "execution_count": 1,
   "metadata": {},
   "outputs": [],
   "source": [
    "#importando as bibliotecas necessárias\n",
    "import pandas as pd #para alguns trabalhos gerais de dados\n",
    "from matplotlib import pyplot as plt #para plotagem\n",
    "import seaborn as sns #para plotagem\n",
    "from scipy import stats as st #para as analises estatisticas"
   ]
  },
  {
   "cell_type": "code",
   "execution_count": 2,
   "metadata": {},
   "outputs": [],
   "source": [
    "# criando um DataFrame com os dados\n",
    "games_df = pd.read_csv('/datasets/games.csv')"
   ]
  },
  {
   "cell_type": "code",
   "execution_count": 3,
   "metadata": {
    "scrolled": true
   },
   "outputs": [
    {
     "name": "stdout",
     "output_type": "stream",
     "text": [
      "<class 'pandas.core.frame.DataFrame'>\n",
      "RangeIndex: 16715 entries, 0 to 16714\n",
      "Data columns (total 11 columns):\n",
      " #   Column           Non-Null Count  Dtype  \n",
      "---  ------           --------------  -----  \n",
      " 0   Name             16713 non-null  object \n",
      " 1   Platform         16715 non-null  object \n",
      " 2   Year_of_Release  16446 non-null  float64\n",
      " 3   Genre            16713 non-null  object \n",
      " 4   NA_sales         16715 non-null  float64\n",
      " 5   EU_sales         16715 non-null  float64\n",
      " 6   JP_sales         16715 non-null  float64\n",
      " 7   Other_sales      16715 non-null  float64\n",
      " 8   Critic_Score     8137 non-null   float64\n",
      " 9   User_Score       10014 non-null  object \n",
      " 10  Rating           9949 non-null   object \n",
      "dtypes: float64(6), object(5)\n",
      "memory usage: 1.4+ MB\n"
     ]
    }
   ],
   "source": [
    "#entendendo os dados\n",
    "games_df.info()"
   ]
  },
  {
   "cell_type": "code",
   "execution_count": 4,
   "metadata": {},
   "outputs": [
    {
     "name": "stdout",
     "output_type": "stream",
     "text": [
      "                       Name Platform  Year_of_Release         Genre  NA_sales  \\\n",
      "0                Wii Sports      Wii           2006.0        Sports     41.36   \n",
      "1         Super Mario Bros.      NES           1985.0      Platform     29.08   \n",
      "2            Mario Kart Wii      Wii           2008.0        Racing     15.68   \n",
      "3         Wii Sports Resort      Wii           2009.0        Sports     15.61   \n",
      "4  Pokemon Red/Pokemon Blue       GB           1996.0  Role-Playing     11.27   \n",
      "\n",
      "   EU_sales  JP_sales  Other_sales  Critic_Score User_Score Rating  \n",
      "0     28.96      3.77         8.45          76.0          8      E  \n",
      "1      3.58      6.81         0.77           NaN        NaN    NaN  \n",
      "2     12.76      3.79         3.29          82.0        8.3      E  \n",
      "3     10.93      3.28         2.95          80.0          8      E  \n",
      "4      8.89     10.22         1.00           NaN        NaN    NaN  \n"
     ]
    }
   ],
   "source": [
    "print(games_df.head())"
   ]
  },
  {
   "cell_type": "code",
   "execution_count": 5,
   "metadata": {
    "scrolled": true
   },
   "outputs": [
    {
     "name": "stdout",
     "output_type": "stream",
     "text": [
      "0\n"
     ]
    }
   ],
   "source": [
    "#conferindo se por acaso tem dados inteiramente duplicados\n",
    "print(games_df.duplicated().sum())"
   ]
  },
  {
   "cell_type": "markdown",
   "metadata": {},
   "source": [
    "É possivel observar que temos 16715 entradas. Além disso, algumas colunas possuem valores nulos. Os dados estão dispostos separados por virgula, não sendo necessário alterar o separador em pd.read_csv('...', sep='')\n",
    "\n",
    "    Pontos a se considerar:\n",
    "        - Preciso transformar os nomes das colunas para mínusculas;\n",
    "        - A coluna name tem dois valores ausentes (não se justifica tratar esses dados)\n",
    "        - year_of_release é do tipo float e preciso mudar para int;\n",
    "        - A coluna genre também tem dois valores ausentes e creio que não se justifica tratar esses dados\n",
    "        - Critic_score tem muitos valores ausentes e preciso ver se tem como tratar esses dados;\n",
    "        - user_score tem vários valores NaN que precisam ser tratados\n",
    "        - rating tem muitos dados faltantes. Para tratar esses dados preciso de um banco de dados contendo as informações de classificação para todos os jogos ja lançados"
   ]
  },
  {
   "cell_type": "code",
   "execution_count": 6,
   "metadata": {},
   "outputs": [
    {
     "data": {
      "text/html": [
       "<div>\n",
       "<style scoped>\n",
       "    .dataframe tbody tr th:only-of-type {\n",
       "        vertical-align: middle;\n",
       "    }\n",
       "\n",
       "    .dataframe tbody tr th {\n",
       "        vertical-align: top;\n",
       "    }\n",
       "\n",
       "    .dataframe thead th {\n",
       "        text-align: right;\n",
       "    }\n",
       "</style>\n",
       "<table border=\"1\" class=\"dataframe\">\n",
       "  <thead>\n",
       "    <tr style=\"text-align: right;\">\n",
       "      <th></th>\n",
       "      <th>Year_of_Release</th>\n",
       "      <th>NA_sales</th>\n",
       "      <th>EU_sales</th>\n",
       "      <th>JP_sales</th>\n",
       "      <th>Other_sales</th>\n",
       "      <th>Critic_Score</th>\n",
       "    </tr>\n",
       "  </thead>\n",
       "  <tbody>\n",
       "    <tr>\n",
       "      <th>count</th>\n",
       "      <td>16446.000000</td>\n",
       "      <td>16715.000000</td>\n",
       "      <td>16715.000000</td>\n",
       "      <td>16715.000000</td>\n",
       "      <td>16715.000000</td>\n",
       "      <td>8137.000000</td>\n",
       "    </tr>\n",
       "    <tr>\n",
       "      <th>mean</th>\n",
       "      <td>2006.484616</td>\n",
       "      <td>0.263377</td>\n",
       "      <td>0.145060</td>\n",
       "      <td>0.077617</td>\n",
       "      <td>0.047342</td>\n",
       "      <td>68.967679</td>\n",
       "    </tr>\n",
       "    <tr>\n",
       "      <th>std</th>\n",
       "      <td>5.877050</td>\n",
       "      <td>0.813604</td>\n",
       "      <td>0.503339</td>\n",
       "      <td>0.308853</td>\n",
       "      <td>0.186731</td>\n",
       "      <td>13.938165</td>\n",
       "    </tr>\n",
       "    <tr>\n",
       "      <th>min</th>\n",
       "      <td>1980.000000</td>\n",
       "      <td>0.000000</td>\n",
       "      <td>0.000000</td>\n",
       "      <td>0.000000</td>\n",
       "      <td>0.000000</td>\n",
       "      <td>13.000000</td>\n",
       "    </tr>\n",
       "    <tr>\n",
       "      <th>25%</th>\n",
       "      <td>2003.000000</td>\n",
       "      <td>0.000000</td>\n",
       "      <td>0.000000</td>\n",
       "      <td>0.000000</td>\n",
       "      <td>0.000000</td>\n",
       "      <td>60.000000</td>\n",
       "    </tr>\n",
       "    <tr>\n",
       "      <th>50%</th>\n",
       "      <td>2007.000000</td>\n",
       "      <td>0.080000</td>\n",
       "      <td>0.020000</td>\n",
       "      <td>0.000000</td>\n",
       "      <td>0.010000</td>\n",
       "      <td>71.000000</td>\n",
       "    </tr>\n",
       "    <tr>\n",
       "      <th>75%</th>\n",
       "      <td>2010.000000</td>\n",
       "      <td>0.240000</td>\n",
       "      <td>0.110000</td>\n",
       "      <td>0.040000</td>\n",
       "      <td>0.030000</td>\n",
       "      <td>79.000000</td>\n",
       "    </tr>\n",
       "    <tr>\n",
       "      <th>max</th>\n",
       "      <td>2016.000000</td>\n",
       "      <td>41.360000</td>\n",
       "      <td>28.960000</td>\n",
       "      <td>10.220000</td>\n",
       "      <td>10.570000</td>\n",
       "      <td>98.000000</td>\n",
       "    </tr>\n",
       "  </tbody>\n",
       "</table>\n",
       "</div>"
      ],
      "text/plain": [
       "       Year_of_Release      NA_sales      EU_sales      JP_sales  \\\n",
       "count     16446.000000  16715.000000  16715.000000  16715.000000   \n",
       "mean       2006.484616      0.263377      0.145060      0.077617   \n",
       "std           5.877050      0.813604      0.503339      0.308853   \n",
       "min        1980.000000      0.000000      0.000000      0.000000   \n",
       "25%        2003.000000      0.000000      0.000000      0.000000   \n",
       "50%        2007.000000      0.080000      0.020000      0.000000   \n",
       "75%        2010.000000      0.240000      0.110000      0.040000   \n",
       "max        2016.000000     41.360000     28.960000     10.220000   \n",
       "\n",
       "        Other_sales  Critic_Score  \n",
       "count  16715.000000   8137.000000  \n",
       "mean       0.047342     68.967679  \n",
       "std        0.186731     13.938165  \n",
       "min        0.000000     13.000000  \n",
       "25%        0.000000     60.000000  \n",
       "50%        0.010000     71.000000  \n",
       "75%        0.030000     79.000000  \n",
       "max       10.570000     98.000000  "
      ]
     },
     "execution_count": 6,
     "metadata": {},
     "output_type": "execute_result"
    }
   ],
   "source": [
    "#usando describe para detectar valores atipicos\n",
    "games_df.describe()"
   ]
  },
  {
   "cell_type": "markdown",
   "metadata": {},
   "source": [
    "    Com base em describe() é possivel observar um maior desvio padrão dos dados para a coluna \"Critic_Score\".\n",
    "   \n",
    "    Como reflexo de games_df.info() a coluna \"User_Score\" é considerada como object e por isso não foi contabilizada na analise dos dados. por parte da função .describe()\n"
   ]
  },
  {
   "cell_type": "markdown",
   "metadata": {},
   "source": [
    "<div class=\"alert alert-danger\">\n",
    "<strong>Comentário do revisor v1</strong>\n",
    "\n",
    "Excelente trabalho checando a consistência dos dados. Sempre importante para garantir uma análise robusta!\n",
    "\n",
    "Alguns pontos de atenção: \n",
    "\n",
    "- Lembre-se de utilizar o describe() para detectar valores atípicos\n",
    "- Há outras colunas com NaNs para serem endereçados\n",
    "</div>\n",
    "\n"
   ]
  },
  {
   "cell_type": "markdown",
   "metadata": {},
   "source": [
    "<div class=\"alert alert-info\">\n",
    "<strong>Comentário do estudante</strong>\n",
    "\n",
    "Obrigado pelos comentários\n",
    "    \n",
    "    Penso em fazer o tratamento dos valores ausentes na sequência. Realmente não fiz o tratamento de todos pois alguns julguei não adequados. \n",
    "</div>"
   ]
  },
  {
   "cell_type": "markdown",
   "metadata": {},
   "source": [
    "# Passo 2. Prepare os dados"
   ]
  },
  {
   "cell_type": "markdown",
   "metadata": {},
   "source": [
    "<b>\n",
    "\n",
    "Descreva as colunas onde os tipos de dados foram alterados e por quê.\n",
    "\n",
    "Se necessário, decida como lidar com valores ausentes:\n",
    "\n",
    "    -Explique por que você preencheu os valores ausentes da forma que você fez ou por que você decidiu deixá-los em branco.\n",
    "    -Por que acha que os valores estão ausentes? Dê possíveis razões.\n",
    "    -Preste atenção à abreviação TBD (a ser determinada). Especifique como pretende lidar com esses casos.\n",
    "\n",
    "Calcule o total de vendas (a soma das vendas em todas as regiões) para cada jogo e coloque esses valores em uma coluna separada."
   ]
  },
  {
   "cell_type": "code",
   "execution_count": 7,
   "metadata": {},
   "outputs": [],
   "source": [
    "#substituindo os nomes das colunas para letras minusculas\n",
    "\n",
    "new_col_names = []\n",
    "\n",
    "for old_name in games_df.columns:\n",
    "    # Em seguida, coloque todas as letras em minúsculas\n",
    "    name_lowered = old_name.lower()\n",
    "    # Adicione o novo nome à lista de novos nomes das colunas\n",
    "    new_col_names.append(name_lowered)\n",
    "    \n",
    "# Substitua os nomes antigos pelos novos\n",
    "games_df.columns = new_col_names\n",
    "\n"
   ]
  },
  {
   "cell_type": "code",
   "execution_count": 8,
   "metadata": {
    "scrolled": true
   },
   "outputs": [
    {
     "name": "stdout",
     "output_type": "stream",
     "text": [
      "                       name platform  year_of_release         genre  na_sales  \\\n",
      "0                Wii Sports      Wii           2006.0        Sports     41.36   \n",
      "1         Super Mario Bros.      NES           1985.0      Platform     29.08   \n",
      "2            Mario Kart Wii      Wii           2008.0        Racing     15.68   \n",
      "3         Wii Sports Resort      Wii           2009.0        Sports     15.61   \n",
      "4  Pokemon Red/Pokemon Blue       GB           1996.0  Role-Playing     11.27   \n",
      "\n",
      "   eu_sales  jp_sales  other_sales  critic_score user_score rating  \n",
      "0     28.96      3.77         8.45          76.0          8      E  \n",
      "1      3.58      6.81         0.77           NaN        NaN    NaN  \n",
      "2     12.76      3.79         3.29          82.0        8.3      E  \n",
      "3     10.93      3.28         2.95          80.0          8      E  \n",
      "4      8.89     10.22         1.00           NaN        NaN    NaN  \n"
     ]
    }
   ],
   "source": [
    "#conferir se trocou os nomes das colunas - pelo visto deu certo\n",
    "print(games_df.head())"
   ]
  },
  {
   "cell_type": "markdown",
   "metadata": {},
   "source": [
    "<div class=\"alert alert-success\">\n",
    "<strong>Comentário do revisor v1</strong>\n",
    "\n",
    "Bom trabalho com os nomes das colunas\n",
    "</div>\n"
   ]
  },
  {
   "cell_type": "code",
   "execution_count": 9,
   "metadata": {},
   "outputs": [],
   "source": [
    "#Convertendo os dados para os tipos necessários."
   ]
  },
  {
   "cell_type": "code",
   "execution_count": 10,
   "metadata": {
    "collapsed": true
   },
   "outputs": [
    {
     "name": "stdout",
     "output_type": "stream",
     "text": [
      "<class 'pandas.core.frame.DataFrame'>\n",
      "RangeIndex: 16715 entries, 0 to 16714\n",
      "Data columns (total 11 columns):\n",
      " #   Column           Non-Null Count  Dtype  \n",
      "---  ------           --------------  -----  \n",
      " 0   name             16713 non-null  object \n",
      " 1   platform         16715 non-null  object \n",
      " 2   year_of_release  16715 non-null  int64  \n",
      " 3   genre            16713 non-null  object \n",
      " 4   na_sales         16715 non-null  float64\n",
      " 5   eu_sales         16715 non-null  float64\n",
      " 6   jp_sales         16715 non-null  float64\n",
      " 7   other_sales      16715 non-null  float64\n",
      " 8   critic_score     8137 non-null   float64\n",
      " 9   user_score       10014 non-null  object \n",
      " 10  rating           9949 non-null   object \n",
      "dtypes: float64(5), int64(1), object(5)\n",
      "memory usage: 1.4+ MB\n"
     ]
    }
   ],
   "source": [
    "#dados oriundos da coluna 'year_of_release'\n",
    "\n",
    "#obtendo a mediana dos anos e atribuindo a variável median_year\n",
    "median_year = games_df['year_of_release'].median()\n",
    "\n",
    "#preenchendo os valores NaN com a mediana\n",
    "games_df['year_of_release'] = games_df['year_of_release'].fillna(median_year)\n",
    "\n",
    "#convertendo 'year_of_release' de float para int\n",
    "games_df['year_of_release'] = games_df['year_of_release'].astype(int)\n",
    "\n",
    "#conferindo se trocou\n",
    "#games_df.info()"
   ]
  },
  {
   "cell_type": "markdown",
   "metadata": {},
   "source": [
    "Troquei o tipo de dados da coluna Ano de float para int. Antes disso tive que obter a mediana dos anos para substituir os valores faltantes obtidos nos dados.\n",
    "\n",
    "    Acredito que os valores nesse caso estejam ausentes em função de uma falha de registro das informações no banco ou por serem dados muito jogos muito antigos"
   ]
  },
  {
   "cell_type": "markdown",
   "metadata": {},
   "source": [
    "<div class=\"alert alert-danger\">\n",
    "<strong>Comentário do revisor v1</strong>\n",
    "\n",
    "Bom trabalho com as transformações, mas esse replace pela média nos missings relativos ao ano de lançamento parece um pouco perigoso... Acho importante investigar um pouco mais ou utilizar técnicas mais conservadoras\n",
    "</div>\n"
   ]
  },
  {
   "cell_type": "markdown",
   "metadata": {},
   "source": [
    "<div class=\"alert alert-info\">\n",
    "<strong>Comentário do estudante</strong>\n",
    "\n",
    "Realmente, agradeço a observação, procurei trocar o modo para \n",
    "</div>"
   ]
  },
  {
   "cell_type": "code",
   "execution_count": 11,
   "metadata": {
    "scrolled": false
   },
   "outputs": [
    {
     "name": "stdout",
     "output_type": "stream",
     "text": [
      "['8' nan '8.3' '8.5' '6.6' '8.4' '8.6' '7.7' '6.3' '7.4' '8.2' '9' '7.9'\n",
      " '8.1' '8.7' '7.1' '3.4' '5.3' '4.8' '3.2' '8.9' '6.4' '7.8' '7.5' '2.6'\n",
      " '7.2' '9.2' '7' '7.3' '4.3' '7.6' '5.7' '5' '9.1' '6.5' 'tbd' '8.8' '6.9'\n",
      " '9.4' '6.8' '6.1' '6.7' '5.4' '4' '4.9' '4.5' '9.3' '6.2' '4.2' '6' '3.7'\n",
      " '4.1' '5.8' '5.6' '5.5' '4.4' '4.6' '5.9' '3.9' '3.1' '2.9' '5.2' '3.3'\n",
      " '4.7' '5.1' '3.5' '2.5' '1.9' '3' '2.7' '2.2' '2' '9.5' '2.1' '3.6' '2.8'\n",
      " '1.8' '3.8' '0' '1.6' '9.6' '2.4' '1.7' '1.1' '0.3' '1.5' '0.7' '1.2'\n",
      " '2.3' '0.5' '1.3' '0.2' '0.6' '1.4' '0.9' '1' '9.7']\n",
      "\n",
      "O valor 'tbd' aparece 2424 vezes na coluna 'user_score'\n"
     ]
    }
   ],
   "source": [
    "#dados oriundos da coluna 'user_score'\n",
    "\n",
    "print(games_df['user_score'].unique())\n",
    "    #com isso descobri que a coluna user_score tem um valor 'tbd' que me impossibilita de fazer a média ou mediana dos valores.\n",
    "    #preciso substituir esse valor.\n",
    "    \n",
    "print()\n",
    "\n",
    "#determinando quantas vezes 'tbd' aparece na coluna 'user_score'\n",
    "tbd_count = (games_df['user_score'] == 'tbd').sum()\n",
    "\n",
    "print(f\"O valor 'tbd' aparece {tbd_count} vezes na coluna 'user_score'\" )"
   ]
  },
  {
   "cell_type": "markdown",
   "metadata": {},
   "source": [
    "Com base nesses nos valores unívocos que a coluna 'user_score' tem e como o valor 'tbd' representa quase 20% dos valores existentes na coluna, vou remover esses valores primeiro e depois substituir tudo (pois se tornarão valores NaN) pela média."
   ]
  },
  {
   "cell_type": "code",
   "execution_count": 12,
   "metadata": {},
   "outputs": [
    {
     "name": "stdout",
     "output_type": "stream",
     "text": [
      "7.125046113306982\n"
     ]
    }
   ],
   "source": [
    "#substituindo 'tbd' por NaN\n",
    "games_df['user_score'] = games_df['user_score'].replace('tbd', pd.NA)\n",
    "\n",
    "#convertendo os valores para numérico\n",
    "games_df['user_score'] = pd.to_numeric(games_df['user_score'])\n",
    "\n",
    "#conferindo qual a média\n",
    "print(games_df['user_score'].mean())"
   ]
  },
  {
   "cell_type": "code",
   "execution_count": 13,
   "metadata": {
    "scrolled": true
   },
   "outputs": [
    {
     "name": "stdout",
     "output_type": "stream",
     "text": [
      "<class 'pandas.core.frame.DataFrame'>\n",
      "RangeIndex: 16715 entries, 0 to 16714\n",
      "Data columns (total 11 columns):\n",
      " #   Column           Non-Null Count  Dtype  \n",
      "---  ------           --------------  -----  \n",
      " 0   name             16713 non-null  object \n",
      " 1   platform         16715 non-null  object \n",
      " 2   year_of_release  16715 non-null  int64  \n",
      " 3   genre            16713 non-null  object \n",
      " 4   na_sales         16715 non-null  float64\n",
      " 5   eu_sales         16715 non-null  float64\n",
      " 6   jp_sales         16715 non-null  float64\n",
      " 7   other_sales      16715 non-null  float64\n",
      " 8   critic_score     8137 non-null   float64\n",
      " 9   user_score       16715 non-null  float64\n",
      " 10  rating           9949 non-null   object \n",
      "dtypes: float64(6), int64(1), object(4)\n",
      "memory usage: 1.4+ MB\n",
      "\n",
      "7.125046113306982\n"
     ]
    }
   ],
   "source": [
    "#obtendo a mediana dos anos e atribuindo a variável mean_score\n",
    "mean_score = games_df['user_score'].mean()\n",
    "\n",
    "#preenchendo os valores NaN com a mean\n",
    "games_df['user_score'] = games_df['user_score'].fillna(mean_score)\n",
    "\n",
    "#conferindo se trocou\n",
    "games_df.info()\n",
    "\n",
    "print()\n",
    "\n",
    "#conferindo nova média \n",
    "print(games_df['user_score'].mean())"
   ]
  },
  {
   "cell_type": "markdown",
   "metadata": {},
   "source": [
    "    Observei que houve a substituição dos valores e que as média geral de user_score é a mesma após substituir os valores."
   ]
  },
  {
   "cell_type": "markdown",
   "metadata": {},
   "source": [
    "Observei também que a coluna critic_score também tem valores ausentes que podem ser substituidos pela média, conforme farei abaixo."
   ]
  },
  {
   "cell_type": "code",
   "execution_count": 14,
   "metadata": {},
   "outputs": [
    {
     "name": "stdout",
     "output_type": "stream",
     "text": [
      "[76. nan 82. 80. 89. 58. 87. 91. 61. 97. 95. 77. 88. 83. 94. 93. 85. 86.\n",
      " 98. 96. 90. 84. 73. 74. 78. 92. 71. 72. 68. 62. 49. 67. 81. 66. 56. 79.\n",
      " 70. 59. 64. 75. 60. 63. 69. 50. 25. 42. 44. 55. 48. 57. 29. 47. 65. 54.\n",
      " 20. 53. 37. 38. 33. 52. 30. 32. 43. 45. 51. 40. 46. 39. 34. 35. 41. 36.\n",
      " 28. 31. 27. 26. 19. 23. 24. 21. 17. 22. 13.]\n",
      "\n",
      " A média de critic_score antes de converter é 68.96767850559173\n"
     ]
    }
   ],
   "source": [
    "#dados oriundos da coluna 'critic_score'\n",
    "\n",
    "print(games_df['critic_score'].unique())\n",
    "\n",
    "print()\n",
    "\n",
    "#conferindo a média dos dados antes de converter (resultado 68.9676)\n",
    "media_crit = games_df['critic_score'].mean()\n",
    "\n",
    "print(f\" A média de critic_score antes de converter é {media_crit}\")\n"
   ]
  },
  {
   "cell_type": "code",
   "execution_count": 15,
   "metadata": {
    "scrolled": true
   },
   "outputs": [
    {
     "name": "stdout",
     "output_type": "stream",
     "text": [
      " A média de critic_score depois de converter é 68.96767850559173\n",
      "\n",
      "<class 'pandas.core.frame.DataFrame'>\n",
      "RangeIndex: 16715 entries, 0 to 16714\n",
      "Data columns (total 11 columns):\n",
      " #   Column           Non-Null Count  Dtype  \n",
      "---  ------           --------------  -----  \n",
      " 0   name             16713 non-null  object \n",
      " 1   platform         16715 non-null  object \n",
      " 2   year_of_release  16715 non-null  int64  \n",
      " 3   genre            16713 non-null  object \n",
      " 4   na_sales         16715 non-null  float64\n",
      " 5   eu_sales         16715 non-null  float64\n",
      " 6   jp_sales         16715 non-null  float64\n",
      " 7   other_sales      16715 non-null  float64\n",
      " 8   critic_score     16715 non-null  float64\n",
      " 9   user_score       16715 non-null  float64\n",
      " 10  rating           9949 non-null   object \n",
      "dtypes: float64(6), int64(1), object(4)\n",
      "memory usage: 1.4+ MB\n"
     ]
    }
   ],
   "source": [
    "#substituindo os valores nulos de critic_score pela média\n",
    "\n",
    "mean_crit_score = games_df['critic_score'].mean()\n",
    "\n",
    "#preenchendo os valores NaN com a mean\n",
    "games_df['critic_score'] = games_df['critic_score'].fillna(mean_crit_score)\n",
    "\n",
    "#conferindo a média dos dados depopis de converter \n",
    "new_media_crit = games_df['critic_score'].mean()\n",
    "\n",
    "print(f\" A média de critic_score depois de converter é {new_media_crit}\")\n",
    "\n",
    "print()\n",
    "\n",
    "games_df.info()"
   ]
  },
  {
   "cell_type": "markdown",
   "metadata": {},
   "source": [
    "    Novamente deu certo a substituição dos valores ausentes na coluna critic_score pela média."
   ]
  },
  {
   "cell_type": "markdown",
   "metadata": {},
   "source": [
    "<div class=\"alert alert-warning\">\n",
    "<strong>Comentário do revisor v1</strong>\n",
    "\n",
    "Bacana a solução para as colunas de score, eu respeito...\n",
    "    \n",
    "Tenha em mente que nesse caso pode haver algum viés que explique a não existência dessas variáveis então poderia ser um caminho também deixá-las como missing\n",
    "</div>\n"
   ]
  },
  {
   "cell_type": "markdown",
   "metadata": {},
   "source": [
    "<div class=\"alert alert-danger\">\n",
    "<strong>Comentário do revisor v1</strong>\n",
    "\n",
    "Imortante endereçar os missings da variável rating e tecer umas conclusão geral sobre o que foi feito.\n",
    "</div>\n"
   ]
  },
  {
   "cell_type": "markdown",
   "metadata": {},
   "source": [
    "# Passo 3. Analise os dados"
   ]
  },
  {
   "cell_type": "markdown",
   "metadata": {},
   "source": [
    "   \n",
    "    \n",
    "    "
   ]
  },
  {
   "cell_type": "markdown",
   "metadata": {},
   "source": [
    "<b>Veja quantos jogos foram lançados em anos diferentes Os dados de cada período são significativos?</b>"
   ]
  },
  {
   "cell_type": "code",
   "execution_count": 16,
   "metadata": {
    "scrolled": true
   },
   "outputs": [
    {
     "name": "stdout",
     "output_type": "stream",
     "text": [
      "A média dos jogos por ano é 451.7567567567568\n",
      "\n",
      "O desvio padrão dos jogos lançados por ano é 465.94577685280825\n"
     ]
    }
   ],
   "source": [
    "# Contando a quantidade de jogos lançados em anos diferentes\n",
    "games_by_year = games_df['year_of_release'].value_counts().sort_index()\n",
    "\n",
    "#print(games_by_year) \n",
    "\n",
    "#calculando a média de jogos por ano\n",
    "mean_games = games_by_year.mean()\n",
    "\n",
    "#calculando o desvio padrão\n",
    "std_games = games_by_year.std()\n",
    "\n",
    "print(f\"A média dos jogos por ano é {mean_games}\")\n",
    "print()\n",
    "print(f\"O desvio padrão dos jogos lançados por ano é {std_games}\")"
   ]
  },
  {
   "cell_type": "markdown",
   "metadata": {},
   "source": [
    "    Além das diferenças visiveis entre os anos (com valores indo de 9 a 1466) como o resultado do desvio padrão é alto, já temos um indicativo de que há diferenças entre as médias por ano."
   ]
  },
  {
   "cell_type": "markdown",
   "metadata": {},
   "source": [
    "<b> Veja como as vendas variaram de plataforma para plataforma. Escolha as plataformas com as maiores vendas totais e construa uma distribuição com base em dados para cada ano. Encontre as plataformas que costumavam ser populares, mas agora não têm vendas. Quanto tempo leva para as novas plataformas aparecerem e as antigas desaparecerem?</b>"
   ]
  },
  {
   "cell_type": "code",
   "execution_count": 17,
   "metadata": {},
   "outputs": [],
   "source": [
    "#criar uma coluna total sales\n",
    "\n",
    "games_df['total_sales'] = games_df['na_sales']+ games_df['jp_sales'] + games_df['eu_sales'] + games_df['other_sales']\n",
    "\n",
    "#conferindo as vendas entre as plataformas, para isso preciso agrupar os valores\n",
    "platform_total = games_df.groupby('platform')['total_sales'].sum().sort_values(ascending=False)\n",
    "\n",
    "#selecionando as top 3 plataformas conforme o total de vendas\n",
    "top_platforms = platform_total.head(3)\n"
   ]
  },
  {
   "cell_type": "markdown",
   "metadata": {},
   "source": [
    "<div class=\"alert alert-success\">\n",
    "<strong>Comentário do revisor v1</strong>\n",
    "\n",
    "Bom trabalho com o cálculo das vendas totais.\n",
    "</div>\n"
   ]
  },
  {
   "cell_type": "code",
   "execution_count": 18,
   "metadata": {},
   "outputs": [],
   "source": [
    "# Agora vou construir uma distribuição de vendas por ano para as plataformas selecionadas\n",
    "selected_platforms_data = games_df[games_df['platform'].isin(top_platforms.index)]\n",
    "\n",
    "#agrupando por plataforma e ano e o somatório total de vendas\n",
    "platforms_yearly_sales = selected_platforms_data.groupby(['platform', 'year_of_release'])['total_sales'].sum()\n"
   ]
  },
  {
   "cell_type": "code",
   "execution_count": 19,
   "metadata": {},
   "outputs": [
    {
     "name": "stdout",
     "output_type": "stream",
     "text": [
      "[2006 1985 2008 2009 1996 1989 1984 2005 1999 2007 2010 2013 2004 1990\n",
      " 1988 2002 2001 2011 1998 2015 2012 2014 1992 1997 1993 1994 1982 2016\n",
      " 2003 1986 2000 1995 1991 1981 1987 1980 1983]\n"
     ]
    }
   ],
   "source": [
    "#relembrando quais os anos tem na coluna year_of_release\n",
    "print(games_df['year_of_release'].unique())"
   ]
  },
  {
   "cell_type": "code",
   "execution_count": 20,
   "metadata": {
    "scrolled": true
   },
   "outputs": [],
   "source": [
    "#agrupar por plataforma e ano de lançamento\n",
    "platforms_last_sales_year = games_df.groupby('platform')['year_of_release'].max()\n",
    "\n",
    "#ver quais plataformas se tornaram obsoletas anteriormente a 2017\n",
    "obsolete_platforms = platforms_last_sales_year[platforms_last_sales_year < 2017].index"
   ]
  },
  {
   "cell_type": "code",
   "execution_count": 21,
   "metadata": {},
   "outputs": [],
   "source": [
    "#quando as plataformas aparecem\n",
    "new_platform_appearance = games_df.groupby('platform')['year_of_release'].min()\n",
    "\n",
    "#quando as plataformas desaparecem\n",
    "old_platform_disappearance = games_df.groupby('platform')['year_of_release'].max()"
   ]
  },
  {
   "cell_type": "code",
   "execution_count": 22,
   "metadata": {
    "scrolled": true
   },
   "outputs": [
    {
     "name": "stdout",
     "output_type": "stream",
     "text": [
      "Plataformas com maiores vendas totais:\n",
      "platform\n",
      "PS2     1255.77\n",
      "X360     971.42\n",
      "PS3      939.65\n",
      "Name: total_sales, dtype: float64\n"
     ]
    }
   ],
   "source": [
    "#resultados das 3 plataformas com maiores vendas totais\n",
    "print(\"Plataformas com maiores vendas totais:\")\n",
    "print(platform_total.head(3))"
   ]
  },
  {
   "cell_type": "markdown",
   "metadata": {},
   "source": [
    "    Nesse ranking temos que PS2, X360 e PS3 são as plataformas com mais vendas totais em todas as regiões."
   ]
  },
  {
   "cell_type": "code",
   "execution_count": 23,
   "metadata": {
    "scrolled": true
   },
   "outputs": [
    {
     "name": "stdout",
     "output_type": "stream",
     "text": [
      "Vendas anuais das top 3 plataformas:\n",
      "year_of_release   2000    2001    2002    2003    2004    2005    2006  \\\n",
      "platform                                                                 \n",
      "PS2              39.17  166.43  205.38  184.31  211.81  160.66  103.42   \n",
      "PS3                NaN     NaN     NaN     NaN     NaN     NaN   20.96   \n",
      "X360               NaN     NaN     NaN     NaN     NaN    8.25   51.62   \n",
      "\n",
      "year_of_release    2007    2008    2009    2010    2011    2012    2013  \\\n",
      "platform                                                                  \n",
      "PS2               98.20   53.90   26.40    5.64    0.45     NaN     NaN   \n",
      "PS3               81.50  118.52  130.93  142.17  156.78  107.36  113.25   \n",
      "X360             105.59  135.26  120.29  170.03  143.84   99.74   88.58   \n",
      "\n",
      "year_of_release   2014   2015  2016  \n",
      "platform                             \n",
      "PS2                NaN    NaN   NaN  \n",
      "PS3              47.76  16.82  3.60  \n",
      "X360             34.74  11.96  1.52  \n"
     ]
    }
   ],
   "source": [
    "#somatório das vendas anuais das top 3 plataformas\n",
    "print(\"Vendas anuais das top 3 plataformas:\")\n",
    "print(platforms_yearly_sales.unstack())"
   ]
  },
  {
   "cell_type": "markdown",
   "metadata": {},
   "source": [
    "    Com base nos dados é possível observar a mudança na preferência dos compradores em função dos lançamentos de novas tecnologias, nesse caso novos consoles, com o passar dos anos."
   ]
  },
  {
   "cell_type": "code",
   "execution_count": 24,
   "metadata": {
    "scrolled": true
   },
   "outputs": [
    {
     "name": "stdout",
     "output_type": "stream",
     "text": [
      "Plataformas sem vendas nos últimos anos:\n",
      "Index(['2600', '3DO', '3DS', 'DC', 'DS', 'GB', 'GBA', 'GC', 'GEN', 'GG', 'N64',\n",
      "       'NES', 'NG', 'PC', 'PCFX', 'PS', 'PS2', 'PS3', 'PS4', 'PSP', 'PSV',\n",
      "       'SAT', 'SCD', 'SNES', 'TG16', 'WS', 'Wii', 'WiiU', 'X360', 'XB',\n",
      "       'XOne'],\n",
      "      dtype='object', name='platform')\n"
     ]
    }
   ],
   "source": [
    "#quais plataformas não foram vendidas nos últimos anos até 2017\n",
    "print(\"Plataformas sem vendas nos últimos anos:\")\n",
    "print(obsolete_platforms)"
   ]
  },
  {
   "cell_type": "markdown",
   "metadata": {},
   "source": [
    "    Várias plataformas perderam mercado nos últimos anos anteriores a 2017 em função da menor tecnologias que essas plataformas traziam com menos qualidade gráfica."
   ]
  },
  {
   "cell_type": "code",
   "execution_count": 25,
   "metadata": {
    "scrolled": false
   },
   "outputs": [
    {
     "name": "stdout",
     "output_type": "stream",
     "text": [
      "Ano de surgimento das plataformas:\n",
      "platform\n",
      "2600    1980\n",
      "3DO     1994\n",
      "3DS     2007\n",
      "DC      1998\n",
      "DS      1985\n",
      "GB      1988\n",
      "GBA     2000\n",
      "GC      2001\n",
      "GEN     1990\n",
      "GG      1992\n",
      "N64     1996\n",
      "NES     1983\n",
      "NG      1993\n",
      "PC      1985\n",
      "PCFX    1996\n",
      "PS      1994\n",
      "PS2     2000\n",
      "PS3     2006\n",
      "PS4     2013\n",
      "PSP     2004\n",
      "PSV     2007\n",
      "SAT     1994\n",
      "SCD     1993\n",
      "SNES    1990\n",
      "TG16    1995\n",
      "WS      1999\n",
      "Wii     2006\n",
      "WiiU    2012\n",
      "X360    2005\n",
      "XB      2000\n",
      "XOne    2013\n",
      "Name: year_of_release, dtype: int64\n"
     ]
    }
   ],
   "source": [
    "#ano de surgimento das plataformas\n",
    "print(\"Ano de surgimento das plataformas:\")\n",
    "print(new_platform_appearance)"
   ]
  },
  {
   "cell_type": "markdown",
   "metadata": {},
   "source": [
    "    Como esses dados trazem, temos plataformas que surgiram entre os anos de 1980 (2900) até 2013 (XOne)."
   ]
  },
  {
   "cell_type": "code",
   "execution_count": 26,
   "metadata": {
    "scrolled": false
   },
   "outputs": [
    {
     "name": "stdout",
     "output_type": "stream",
     "text": [
      "Ano de desaparecimento das antigas plataformas:\n",
      "platform\n",
      "2600    2007\n",
      "3DO     1995\n",
      "3DS     2016\n",
      "DC      2008\n",
      "DS      2013\n",
      "GB      2007\n",
      "GBA     2007\n",
      "GC      2007\n",
      "GEN     1994\n",
      "GG      1992\n",
      "N64     2007\n",
      "NES     1994\n",
      "NG      1996\n",
      "PC      2016\n",
      "PCFX    1996\n",
      "PS      2007\n",
      "PS2     2011\n",
      "PS3     2016\n",
      "PS4     2016\n",
      "PSP     2015\n",
      "PSV     2016\n",
      "SAT     1999\n",
      "SCD     1994\n",
      "SNES    1999\n",
      "TG16    1995\n",
      "WS      2001\n",
      "Wii     2016\n",
      "WiiU    2016\n",
      "X360    2016\n",
      "XB      2008\n",
      "XOne    2016\n",
      "Name: year_of_release, dtype: int64\n"
     ]
    }
   ],
   "source": [
    "#ano de desaparecimento das plataformas\n",
    "print(\"Ano de desaparecimento das antigas plataformas:\")\n",
    "print(old_platform_disappearance)"
   ]
  },
  {
   "cell_type": "markdown",
   "metadata": {},
   "source": [
    "        Estes dados trazem que a primeira plataforma foi descontinuada em 1992 (GG) e a última com registro em 2016 (XOne)"
   ]
  },
  {
   "cell_type": "markdown",
   "metadata": {},
   "source": [
    "<div class=\"alert alert-danger\">\n",
    "<strong>Comentário do revisor v1</strong>\n",
    "\n",
    "Importante incluir gráficos aqui que mostrem o comportamento de vendas e lançamentos por plataformas. Sugiro o uso de gráficos de barras.\n",
    "\n",
    "A partir desses deveremos compor o que eles nos indicam na conclusão intermediária.\n",
    "</div>\n"
   ]
  },
  {
   "cell_type": "markdown",
   "metadata": {},
   "source": [
    "<div class=\"alert alert-danger\">\n",
    "<strong>Comentário do revisor v1</strong>\n",
    "\n",
    "Fundamental definir qual período de dados vamos utilizar (pesando em prever 2017). Esse período deverá ser utilizado nas análises a partir daqui.\n",
    "</div>\n"
   ]
  },
  {
   "cell_type": "markdown",
   "metadata": {},
   "source": [
    "<div class=\"alert alert-danger\">\n",
    "<strong>Comentário do revisor v1</strong>\n",
    "\n",
    "Devemos verificar as plataformas líderes a partir do período filtrado e elaborar conclusões.\n",
    "</div>\n"
   ]
  },
  {
   "cell_type": "markdown",
   "metadata": {},
   "source": [
    "<b>Construa um diagrama de caixa para as vendas globais de todos os jogos, divididos por plataforma. As diferenças nas vendas são significativas? E quanto às vendas médias em várias plataformas? Descreva suas descobertas.</b>"
   ]
  },
  {
   "cell_type": "code",
   "execution_count": 27,
   "metadata": {},
   "outputs": [
    {
     "name": "stdout",
     "output_type": "stream",
     "text": [
      "<class 'pandas.core.frame.DataFrame'>\n",
      "RangeIndex: 16715 entries, 0 to 16714\n",
      "Data columns (total 12 columns):\n",
      " #   Column           Non-Null Count  Dtype  \n",
      "---  ------           --------------  -----  \n",
      " 0   name             16713 non-null  object \n",
      " 1   platform         16715 non-null  object \n",
      " 2   year_of_release  16715 non-null  int64  \n",
      " 3   genre            16713 non-null  object \n",
      " 4   na_sales         16715 non-null  float64\n",
      " 5   eu_sales         16715 non-null  float64\n",
      " 6   jp_sales         16715 non-null  float64\n",
      " 7   other_sales      16715 non-null  float64\n",
      " 8   critic_score     16715 non-null  float64\n",
      " 9   user_score       16715 non-null  float64\n",
      " 10  rating           9949 non-null   object \n",
      " 11  total_sales      16715 non-null  float64\n",
      "dtypes: float64(7), int64(1), object(4)\n",
      "memory usage: 1.5+ MB\n"
     ]
    }
   ],
   "source": [
    "games_df.info()"
   ]
  },
  {
   "cell_type": "code",
   "execution_count": 28,
   "metadata": {
    "scrolled": false
   },
   "outputs": [
    {
     "data": {
      "image/png": "[encoded data removed]",
      "text/plain": [
       "<Figure size 864x576 with 1 Axes>"
      ]
     },
     "metadata": {
      "needs_background": "light"
     },
     "output_type": "display_data"
    }
   ],
   "source": [
    "#construindo um boxplot do total de vendas dividido por plataforma\n",
    "\n",
    "#agrupar os dados por vendas\n",
    "sales_data = games_df[['platform','total_sales']]\n",
    "\n",
    "#realizar a plotagem do gráfico com os dados\n",
    "plt.figure(figsize=(12,8))    \n",
    "sns.boxplot(x='platform', y='total_sales', data=sales_data)\n",
    "plt.title(\"Boxplot de vendas\")\n",
    "plt.xlabel(\"Distribuição das plataformas\")\n",
    "plt.ylabel(\"Total de vendas\")\n",
    "plt.xticks(rotation=45)\n",
    "\n",
    "plt.show()"
   ]
  },
  {
   "cell_type": "markdown",
   "metadata": {},
   "source": [
    "    Com base no boxplot dos dados, é possível observar que dentro do total de vendas para cada uma das plataformas há vários outliers."
   ]
  },
  {
   "cell_type": "code",
   "execution_count": 29,
   "metadata": {},
   "outputs": [
    {
     "name": "stdout",
     "output_type": "stream",
     "text": [
      "Vendas médias por plataforma:\n",
      "platform\n",
      "GB      2.606735\n",
      "NES     2.561735\n",
      "GEN     1.061034\n",
      "SNES    0.836987\n",
      "PS4     0.801378\n",
      "X360    0.769746\n",
      "2600    0.729173\n",
      "PS3     0.705973\n",
      "Wii     0.687508\n",
      "N64     0.685517\n",
      "XOne    0.645020\n",
      "PS      0.610576\n",
      "PS2     0.581106\n",
      "WiiU    0.559116\n",
      "3DS     0.498077\n",
      "GBA     0.386679\n",
      "DS      0.374765\n",
      "GC      0.357788\n",
      "XB      0.312791\n",
      "SCD     0.310000\n",
      "DC      0.306731\n",
      "PC      0.266448\n",
      "PSP     0.243218\n",
      "WS      0.236667\n",
      "SAT     0.194162\n",
      "PSV     0.125744\n",
      "NG      0.120000\n",
      "TG16    0.080000\n",
      "GG      0.040000\n",
      "3DO     0.033333\n",
      "PCFX    0.030000\n",
      "Name: total_sales, dtype: float64\n"
     ]
    }
   ],
   "source": [
    "#caculando as vendas médias por plataforma\n",
    "mean_sales_by_platform = sales_data.groupby('platform')['total_sales'].mean().sort_values(ascending=False)\n",
    "print(\"Vendas médias por plataforma:\")\n",
    "print(mean_sales_by_platform)"
   ]
  },
  {
   "cell_type": "markdown",
   "metadata": {},
   "source": [
    "    Com relação as vendas médias por plataforma podemos observar um comportamento diferente do top 3 plataformas mais vendidas. Nesse caso temos GB, NES e GEN sendo o top 3 plataformas com maior número de vendas médias."
   ]
  },
  {
   "cell_type": "markdown",
   "metadata": {},
   "source": [
    "<div class=\"alert alert-danger\">\n",
    "<strong>Comentário do revisor v1</strong>\n",
    "\n",
    "Vamos reconstruir o boxplot para o período de dados filtrado.\n",
    "</div>\n"
   ]
  },
  {
   "cell_type": "markdown",
   "metadata": {},
   "source": [
    "<b> Veja como as avaliações de usuários e profissionais afetam as vendas de uma plataforma popular (você escolhe). Construa um gráfico de dispersão e calcule a correlação entre revisões e vendas. Tire conclusões."
   ]
  },
  {
   "cell_type": "code",
   "execution_count": 30,
   "metadata": {},
   "outputs": [
    {
     "name": "stdout",
     "output_type": "stream",
     "text": [
      "Correlação entre Avaliações de Usuários e Vendas: 0.21147951638016324\n",
      "Correlação entre Avaliações de Críticos e Vendas: 0.3674538695723079\n"
     ]
    },
    {
     "data": {
      "image/png": "[encoded data removed]",
      "text/plain": [
       "<Figure size 576x432 with 1 Axes>"
      ]
     },
     "metadata": {
      "needs_background": "light"
     },
     "output_type": "display_data"
    }
   ],
   "source": [
    "# Em função da participação nas vendas vou trabalhar com a plataforma PS2\n",
    "selected_platform = 'PS2'\n",
    "\n",
    "# Filtrando os dados para a plataforma escolhida\n",
    "platform_data = games_df[games_df['platform'] == selected_platform]\n",
    "\n",
    "# Criando um gráfico de dispersão das vendas em relação às avaliações de usuários e críticos\n",
    "plt.figure(figsize=(8, 6))\n",
    "plt.scatter(platform_data['user_score'], platform_data['total_sales'], label='Avaliações de Usuários')\n",
    "plt.scatter(platform_data['critic_score'], platform_data['total_sales'], label='Avaliações de Críticos')\n",
    "plt.xlabel('Avaliações')\n",
    "plt.ylabel('Vendas Globais (em milhões)')\n",
    "plt.title(f'Correlação entre Avaliações e Vendas para a plataforma {selected_platform}')\n",
    "plt.legend()\n",
    "plt.grid(True)\n",
    "\n",
    "# Calculando a correlação entre as revisões e as vendas\n",
    "correlation_user = platform_data['user_score'].corr(platform_data['total_sales'])\n",
    "correlation_critic = platform_data['critic_score'].corr(platform_data['total_sales'])\n",
    "\n",
    "print(f\"Correlação entre Avaliações de Usuários e Vendas: {correlation_user}\")\n",
    "print(f\"Correlação entre Avaliações de Críticos e Vendas: {correlation_critic}\")\n",
    "\n",
    "# Exibindo o gráfico de dispersão\n",
    "plt.show()"
   ]
  },
  {
   "cell_type": "markdown",
   "metadata": {},
   "source": [
    "     Para a plataforma PS2, ambas as correlações entre vendas e avaliações foram positivas porém fracas, ou seja, outros fatores influenciam nas vendas."
   ]
  },
  {
   "cell_type": "markdown",
   "metadata": {},
   "source": [
    "<div class=\"alert alert-danger\">\n",
    "<strong>Comentário do revisor v1</strong>\n",
    "\n",
    "Gostei da sua escolha de visualização, acredito que favorece a compreensão.\n",
    "\n",
    "Pessoalmente náo achei as correlaçõesm tão fracas assim, mas respeito sua opinião....\n",
    "\n",
    "Só fique esperto pois a conslusão a partir de uma possível correlação fraca é que essa variável especificamente não se relaciona com o fenômeno, mas não necessáriamente teremos outra que o faça (como você sugere). Pode ocorrer de não termos nenhuma.\n",
    "\n",
    "</div>\n"
   ]
  },
  {
   "cell_type": "markdown",
   "metadata": {},
   "source": [
    "<b>Dê uma olhada na distribuição geral de jogos por gênero. O que podemos dizer sobre os gêneros mais lucrativos? Você pode generalizar sobre gêneros com vendas altas e baixas?"
   ]
  },
  {
   "cell_type": "code",
   "execution_count": 31,
   "metadata": {
    "scrolled": false
   },
   "outputs": [
    {
     "data": {
      "image/png": "[encoded data removed]",
      "text/plain": [
       "<Figure size 720x432 with 1 Axes>"
      ]
     },
     "metadata": {
      "needs_background": "light"
     },
     "output_type": "display_data"
    }
   ],
   "source": [
    "# Preciso determinar qual o total de cada gênero\n",
    "genre_counts = games_df['genre'].value_counts()\n",
    "\n",
    "# Para visualizar o total de jogos por gênero vou trabalhar com gráfico de barras\n",
    "plt.figure(figsize=(10, 6))\n",
    "genre_counts.plot(kind='bar', color='lightgreen')\n",
    "plt.title('Distribuição de Jogos por Gênero')\n",
    "plt.xlabel('Gênero')\n",
    "plt.ylabel('Quantidade de Jogos')\n",
    "plt.xticks(rotation=45)\n",
    "plt.grid(axis='y')\n",
    "plt.show()"
   ]
  },
  {
   "cell_type": "markdown",
   "metadata": {},
   "source": [
    "    Com base neste gráfico, podemos ver que os gêneros Ação, Esportes e Diversos (Misc) ocupam o top 3 gêneros mais jogados. "
   ]
  },
  {
   "cell_type": "code",
   "execution_count": 32,
   "metadata": {},
   "outputs": [
    {
     "name": "stdout",
     "output_type": "stream",
     "text": [
      "Gêneros mais lucrativos pelo total de vendas:\n",
      "genre\n",
      "Action          1744.17\n",
      "Sports          1331.27\n",
      "Shooter         1052.45\n",
      "Role-Playing     934.56\n",
      "Platform         827.77\n",
      "Misc             802.51\n",
      "Racing           728.67\n",
      "Fighting         447.53\n",
      "Simulation       389.97\n",
      "Puzzle           242.57\n",
      "Adventure        237.59\n",
      "Strategy         174.23\n",
      "Name: total_sales, dtype: float64\n"
     ]
    }
   ],
   "source": [
    "# Identificando os gêneros mais lucrativos\n",
    "#Agrupar por genero e vendas totais\n",
    "total_sales_by_genre = games_df.groupby('genre')['total_sales'].sum().sort_values(ascending=False)\n",
    "\n",
    "print(\"Gêneros mais lucrativos pelo total de vendas:\")\n",
    "print(total_sales_by_genre)\n"
   ]
  },
  {
   "cell_type": "markdown",
   "metadata": {},
   "source": [
    "    E com base nas informações de quais são os gêneros mais lucrativos, podemos observar que Ação e Esportes, além de serem os que mais aparecem no top 3 do gráfico anterior, também são os mais lucrativos.\n",
    "    Um comportamento esperado uma vez que jogos que tragam uma sensação de adrenalina (como jogos de ação) e competição (como esportes) tendem a ser mais chamativos do que outros gêneros."
   ]
  },
  {
   "cell_type": "markdown",
   "metadata": {},
   "source": [
    "<div class=\"alert alert-success\">\n",
    "<strong>Comentário do revisor v1</strong>\n",
    "\n",
    "Bom trabalho com  a conclusão sobre os gêneros.\n",
    "</div>\n"
   ]
  },
  {
   "cell_type": "markdown",
   "metadata": {},
   "source": [
    "<div class=\"alert alert-danger\">\n",
    "<strong>Comentário do revisor v1</strong>\n",
    "\n",
    "Faltou investigar o comportamento do mesmo jogo em diferentes plataformas.\n",
    "</div>\n"
   ]
  },
  {
   "cell_type": "code",
   "execution_count": 33,
   "metadata": {
    "scrolled": false
   },
   "outputs": [
    {
     "data": {
      "image/png": "[encoded data removed]",
      "text/plain": [
       "<Figure size 720x432 with 1 Axes>"
      ]
     },
     "metadata": {
      "needs_background": "light"
     },
     "output_type": "display_data"
    }
   ],
   "source": [
    "# Preciso determinar qual o total de cada gênero\n",
    "platform_counts = games_df['platform'].value_counts()\n",
    "\n",
    "# Para visualizar o total de jogos por gênero vou trabalhar com gráfico de barras\n",
    "plt.figure(figsize=(10, 6))\n",
    "platform_counts.plot(kind='bar', color='lightgreen')\n",
    "plt.title('Distribuição de Jogos por plataforma')\n",
    "plt.xlabel('Plataforma')\n",
    "plt.ylabel('Quantidade de Jogos')\n",
    "plt.xticks(rotation=45)\n",
    "plt.grid(axis='y')\n",
    "plt.show()"
   ]
  },
  {
   "cell_type": "code",
   "execution_count": 34,
   "metadata": {},
   "outputs": [
    {
     "name": "stdout",
     "output_type": "stream",
     "text": [
      "\n",
      "platform  name                       \n",
      "PC        Need for Speed: Most Wanted    2\n",
      "PS3       Sonic the Hedgehog             2\n",
      "          Madden NFL 13                  2\n",
      "X360      Need for Speed: Most Wanted    2\n",
      "PSP       Football Manager 2012          1\n",
      "Name: name, dtype: int64\n"
     ]
    },
    {
     "data": {
      "text/plain": [
       "platform  name                       \n",
       "PC        Need for Speed: Most Wanted    2\n",
       "PS3       Sonic the Hedgehog             2\n",
       "          Madden NFL 13                  2\n",
       "X360      Need for Speed: Most Wanted    2\n",
       "PSP       Football Manager 2012          1\n",
       "Name: name, dtype: int64"
      ]
     },
     "execution_count": 34,
     "metadata": {},
     "output_type": "execute_result"
    }
   ],
   "source": [
    "# Identificando os gêneros mais lucrativos\n",
    "#Agrupar por genero e vendas totais\n",
    "games_platform = games_df.groupby('platform')['name'].value_counts().sort_values(ascending=False).head()\n",
    "\n",
    "print(\"\")\n",
    "print(games_platform)\n",
    "\n",
    "\n",
    "games_platform"
   ]
  },
  {
   "cell_type": "markdown",
   "metadata": {},
   "source": [
    "# Passo 4. Crie um perfil de usuário para cada região"
   ]
  },
  {
   "cell_type": "markdown",
   "metadata": {},
   "source": [
    "<b>Para cada região (AN, UE, JP), determine:\n",
    "\n",
    "    - As cinco plataformas principais. Descreva as variações das suas quotas de mercado de região para região.\n",
    "    - Os cinco principais gêneros. Explique a diferença.\n",
    "    - As classificações do ESRB afetam as vendas em regiões individuais?"
   ]
  },
  {
   "cell_type": "code",
   "execution_count": 35,
   "metadata": {},
   "outputs": [
    {
     "name": "stdout",
     "output_type": "stream",
     "text": [
      "As cinco principais plataformas comercializadas na América do Norte são:\n",
      "na_sales  platform\n",
      "0.0       DS          626\n",
      "          PSP         620\n",
      "          PC          574\n",
      "          PS2         513\n",
      "          PS3         323\n",
      "Name: platform, dtype: int64\n",
      "\n",
      "As cinco principais plataformas comercializadas na União Européia são:\n",
      "eu_sales  platform\n",
      "0.0       DS          1385\n",
      "          PSP          897\n",
      "          Wii          588\n",
      "          PS2          526\n",
      "          PS3          370\n",
      "Name: platform, dtype: int64\n",
      "\n",
      "As cinco principais plataformas comercializadas no Japão são:\n",
      "jp_sales  platform\n",
      "0.0       DS          1387\n",
      "          PS2         1364\n",
      "          Wii         1047\n",
      "          PC           972\n",
      "          X360         886\n",
      "Name: platform, dtype: int64\n"
     ]
    }
   ],
   "source": [
    "#Separando as principais plataformas por região\n",
    "\n",
    "#Separando as principais plataformas comercializadas na América do Norte\n",
    "an_five_plats =  games_df.groupby('na_sales')['platform'].value_counts().sort_values(ascending=False).head()\n",
    "print(\"As cinco principais plataformas comercializadas na América do Norte são:\")\n",
    "print(an_five_plats)\n",
    "\n",
    "print()\n",
    "\n",
    "#Separando as principais plataformas comercializadas na União Euroéia\n",
    "ue_five_plats =  games_df.groupby('eu_sales')['platform'].value_counts().sort_values(ascending=False).head()\n",
    "print(\"As cinco principais plataformas comercializadas na União Européia são:\")\n",
    "print(ue_five_plats)\n",
    "\n",
    "print()\n",
    "\n",
    "#Separando as principais plataformas comercializadas no Japão\n",
    "jp_five_plats =  games_df.groupby('jp_sales')['platform'].value_counts().sort_values(ascending=False).head()\n",
    "print(\"As cinco principais plataformas comercializadas no Japão são:\")\n",
    "print(jp_five_plats)\n"
   ]
  },
  {
   "cell_type": "markdown",
   "metadata": {},
   "source": [
    "    Com base nestes resultados, é possível observar que o nintendo DS foi a plataforma mais vendida nas três regiões avaliadas. O PSP foi o segndo mais vendido na América do Norte e na União Europeia mas perdeu lugar para o PS2 no Japão."
   ]
  },
  {
   "cell_type": "code",
   "execution_count": 36,
   "metadata": {
    "scrolled": false
   },
   "outputs": [
    {
     "name": "stdout",
     "output_type": "stream",
     "text": [
      "Os cinco principais gêneros comercializadas na América do Norte são:\n",
      "na_sales  genre       \n",
      "0.0       Action          752\n",
      "          Adventure       750\n",
      "          Role-Playing    624\n",
      "          Misc            530\n",
      "          Sports          487\n",
      "Name: genre, dtype: int64\n",
      "\n",
      "Os cinco principais gêneros comercializadas na União Européia são:\n",
      "eu_sales  genre       \n",
      "0.0       Action          915\n",
      "          Adventure       805\n",
      "          Misc            796\n",
      "          Sports          785\n",
      "          Role-Playing    718\n",
      "Name: genre, dtype: int64\n",
      "\n",
      "Os cinco principais gêneros comercializadas no Japão são:\n",
      "jp_sales  genre  \n",
      "0.0       Action     2175\n",
      "          Sports     1747\n",
      "          Misc       1210\n",
      "          Racing     1019\n",
      "          Shooter     943\n",
      "Name: genre, dtype: int64\n"
     ]
    }
   ],
   "source": [
    "#Separando os principais gêneros por região\n",
    "\n",
    "#Separando os principais gêneros comercializados na América do Norte\n",
    "an_five_gens =  games_df.groupby('na_sales')['genre'].value_counts().sort_values(ascending=False).head()\n",
    "print(\"Os cinco principais gêneros comercializadas na América do Norte são:\")\n",
    "print(an_five_gens)\n",
    "\n",
    "print()\n",
    "\n",
    "#Separando os principais gêneros comercializados na União Euroéia\n",
    "ue_five_gens =  games_df.groupby('eu_sales')['genre'].value_counts().sort_values(ascending=False).head()\n",
    "print(\"Os cinco principais gêneros comercializadas na União Européia são:\")\n",
    "print(ue_five_gens)\n",
    "\n",
    "print()\n",
    "\n",
    "#Separando os principais gêneros comercializados no Japão\n",
    "jp_five_gens =  games_df.groupby('jp_sales')['genre'].value_counts().sort_values(ascending=False).head()\n",
    "print(\"Os cinco principais gêneros comercializadas no Japão são:\")\n",
    "print(jp_five_gens)\n"
   ]
  },
  {
   "cell_type": "markdown",
   "metadata": {},
   "source": [
    "    De maneira semelhante aos gêneros mais comercializados globalmente, temos o gênero Ação em primeiro lugar nas três regiões avaliadas. O Gênero aventura é o segundo mais comercializado na América do Norte e na União Européia. Ainda o Japão apresenta alta participação no total de vendas com mais que o dobro das vendas do gênero de Ação em comparação as vendas na América do Norte e na União Européia."
   ]
  },
  {
   "cell_type": "code",
   "execution_count": 37,
   "metadata": {
    "scrolled": false
   },
   "outputs": [
    {
     "name": "stdout",
     "output_type": "stream",
     "text": [
      "As cinco principais classificações comercializadas na América do Norte são:\n",
      "rating\n",
      "E       1292.99\n",
      "T        759.75\n",
      "M        748.48\n",
      "E10+     353.32\n",
      "K-A        2.56\n",
      "Name: na_sales, dtype: float64\n",
      "\n",
      "As cinco principais classificações comercializadas na União Européia são:\n",
      "rating\n",
      "E       710.25\n",
      "M       483.97\n",
      "T       427.03\n",
      "E10+    188.52\n",
      "AO        0.61\n",
      "Name: eu_sales, dtype: float64\n",
      "\n",
      "As cinco principais classificações comercializadas no Japão são:\n",
      "rating\n",
      "E       198.11\n",
      "T       151.40\n",
      "M        64.24\n",
      "E10+     40.20\n",
      "K-A       1.46\n",
      "Name: jp_sales, dtype: float64\n"
     ]
    }
   ],
   "source": [
    "#Separando as principais classificações ESRB pore região\n",
    "\n",
    "#Separando as principais classificações comercializadas na América do Norte\n",
    "an_five_rating =  games_df.groupby('rating')['na_sales'].sum().sort_values(ascending=False).head()\n",
    "print(\"As cinco principais classificações comercializadas na América do Norte são:\")\n",
    "print(an_five_rating)\n",
    "\n",
    "print()\n",
    "\n",
    "#Separando as principais classificações comercializadas na União Euroéia\n",
    "ue_five_rating =  games_df.groupby('rating')['eu_sales'].sum().sort_values(ascending=False).head()\n",
    "print(\"As cinco principais classificações comercializadas na União Européia são:\")\n",
    "print(ue_five_rating)\n",
    "\n",
    "print()\n",
    "\n",
    "#Separando as principais classificações comercializadas no Japão\n",
    "jp_five_rating =  games_df.groupby('rating')['jp_sales'].sum().sort_values(ascending=False).head()\n",
    "print(\"As cinco principais classificações comercializadas no Japão são:\")\n",
    "print(jp_five_rating)\n"
   ]
  },
  {
   "cell_type": "markdown",
   "metadata": {},
   "source": [
    "    Com relação as classificações comercializadas por região, temos a classificação livre (E - Everyone) sendo a mais comercializada nas três regiões. A classificação adolescentes (T - Teen) é a segunda mais comercializada na América do Norte e no Japão, seguido nesse caso pela classificação Adulto (M - Mature) nessas regiões. Na União Européia observamos uma inversão com a classificação Adulta sendo a segunda mais comercializada, seguida da classificação adolescentes."
   ]
  },
  {
   "cell_type": "markdown",
   "metadata": {},
   "source": [
    "<div class=\"alert alert-warning\">\n",
    "<strong>Comentário do revisor v1</strong>\n",
    "\n",
    "Seus dados e sua conclusão estão corretos, mas ficariam melhorers expostos se acompanhados de gráficos.\n",
    "</div>\n"
   ]
  },
  {
   "cell_type": "markdown",
   "metadata": {},
   "source": [
    "# Passo 5. Teste as seguintes hipóteses:"
   ]
  },
  {
   "cell_type": "markdown",
   "metadata": {},
   "source": [
    "  <b>  \n",
    "    \n",
    "    — As classificações médias dos usuários das plataformas Xbox One e PC são as mesmas.\n",
    "    — As classificações médias de usuários para os gêneros Action (ação) e Sports (esportes) são diferentes.\n",
    "    \n",
    "    Defina o valor do limiar *alfa** você mesmo.\n",
    "    \n",
    "    Explique:\n",
    "    — Como você formula as hipóteses alternativas e nulas.\n",
    "    — Quais critérios você usou para testar as hipóteses, e por quê"
   ]
  },
  {
   "cell_type": "code",
   "execution_count": 38,
   "metadata": {},
   "outputs": [
    {
     "name": "stdout",
     "output_type": "stream",
     "text": [
      "Existe diferença entre as plataformas Xbox One e PC.\n"
     ]
    }
   ],
   "source": [
    "#Determinar se as classificações médias dos usuários das plataformas Xbox One e PC são as mesmas\n",
    "\n",
    "#separar os dados de cada plataforma\n",
    "xone_rating = games_df[games_df['platform'] =='XOne']['user_score']\n",
    "pc_rating = games_df[games_df['platform'] =='PC']['user_score']\n",
    "\n",
    "#aplicar o teste t-student\n",
    "results = st.ttest_ind(xone_rating, pc_rating, equal_var=False)\n",
    "\n",
    "alpha_platform = 0.01\n",
    "\n",
    "#verificar se o valor p é menor que o nível de significancia\n",
    "if results.pvalue < alpha_platform:\n",
    "    print(\"Existe diferença entre as plataformas Xbox One e PC.\")\n",
    "else:\n",
    "    print(\"Não existe diferença entre as plataformas Xbox One e PC.\")"
   ]
  },
  {
   "cell_type": "markdown",
   "metadata": {},
   "source": [
    "    As hipóteses foram criadas no intuido de averiguar se há ou não diferença estatistica, nesse caso ao nível de 1% de probabilidade de erro, entre as as classificações médias dos usuários das plataformas Xbox One e PC, onde, se p<0,01 existe diferença significativa entre os dados analisados, e se p>0,01 não existe diferença. \n",
    "    \n",
    "    Adotei alpha = 0.01 para testar se existe realmente diferença entre as plataformas avaliadas. \n",
    "    \n",
    "    Conforme observado, a hipotese H0 é nula pois as classificações médias dos usuários das plataformas Xbox One e PC não são as mesmas."
   ]
  },
  {
   "cell_type": "code",
   "execution_count": 39,
   "metadata": {
    "scrolled": true
   },
   "outputs": [
    {
     "name": "stdout",
     "output_type": "stream",
     "text": [
      "Existe diferença entre os gêneros Ação e Esportes.\n"
     ]
    }
   ],
   "source": [
    "# Determinar se as classificações médias de usuários para os gêneros Action (ação) e Sports (esportes) são diferentes.\n",
    "\n",
    "#separar os dados de cada gênero\n",
    "action_rating = games_df[games_df['genre'] =='Action']['user_score']\n",
    "sports_rating = games_df[games_df['genre'] =='Sports']['user_score']\n",
    "\n",
    "#aplicar o teste t-student\n",
    "\n",
    "results_genres = st.ttest_ind(action_rating, sports_rating, equal_var=False)\n",
    "\n",
    "alpha_genre=0.01\n",
    "\n",
    "#verificar se o valor p é menor que o nível de significancia\n",
    "if results.pvalue < alpha_genre:\n",
    "    print(\"Existe diferença entre os gêneros Ação e Esportes.\")\n",
    "else:\n",
    "    print(\"Não existe diferença entre os gêneros Ação e Esportes.\")"
   ]
  },
  {
   "cell_type": "markdown",
   "metadata": {},
   "source": [
    "    Conforme os resultados obtidos como p<0,01 aceita-se H0, ou seja, existe diferença entre as classificações médias dos gêneros Ação e Esportes."
   ]
  },
  {
   "cell_type": "markdown",
   "metadata": {},
   "source": [
    "<div class=\"alert alert-warning\">\n",
    "<strong>Comentário do revisor v1</strong>\n",
    "\n",
    "Os teses foram bem conduzidos, mas é sempre uma boa prática expor o valor p para sabermos o quão loge estamos do limite escolhido (e se não houve eventualmente um erro no teste). Além disso descrever detalhadamente H0 e H1 é sempre importante.\n",
    "</div>\n"
   ]
  },
  {
   "cell_type": "markdown",
   "metadata": {},
   "source": [
    "# Passo 6. Escreva uma conclusão geral"
   ]
  },
  {
   "cell_type": "markdown",
   "metadata": {},
   "source": [
    "    Com base nos dados é possível chegar a algumas conclusões. O mercado dos games e das plataformas evoluiu de tal forma que muitas empresas tiveram que se atualizar para continuar no mercado, criando novas plataformas com o passar dos anos e conforme as demandas por consoles com melhores gráficos.\n",
    "    \n",
    "    Os dados apresentam outliers no total de vendas para algumas das plataformas avaliadas.\n",
    "    \n",
    "    No geral, o gênero Ação é o que possui a maior quantidade de jogos e também é o que pe o mais lucrativo.\n",
    "    \n",
    "    O perfil de usuário é o mesmo nas regiões avaliadas quando analisamos a plataforma, o gênero e a classificação mais consumidas nessas regiões, apresentando diferenças entre as regiões quando analisamos os segundos e terceiros colocados na classificação do top 5."
   ]
  },
  {
   "cell_type": "markdown",
   "metadata": {},
   "source": [
    "<div class=\"alert alert-danger\">\n",
    "<strong>Comentário do revisor v1</strong>\n",
    "\n",
    "Estamos no caminho certo com essa versão, mas retocar os pontos indicados acima nos fará chegar em um resultado ainda mais incrível.\n",
    "    \n",
    "Conte comigo para ajudá-lo (a) em qualquer questão que possa vir a ter! Lembre-se de usar as caixas azuis para se comunicar comigo.\n",
    "    \n",
    "Até breve.\n",
    "</div>\n"
   ]
  },
  {
   "cell_type": "code",
   "execution_count": null,
   "metadata": {},
   "outputs": [],
   "source": []
  }
 ],
 "metadata": {
  "kernelspec": {
   "display_name": "Python 3 (ipykernel)",
   "language": "python",
   "name": "python3"
  },
  "language_info": {
   "codemirror_mode": {
    "name": "ipython",
    "version": 3
   },
   "file_extension": ".py",
   "mimetype": "text/x-python",
   "name": "python",
   "nbconvert_exporter": "python",
   "pygments_lexer": "ipython3",
   "version": "3.9.5"
  },
  "toc": {
   "base_numbering": 1,
   "nav_menu": {},
   "number_sections": true,
   "sideBar": true,
   "skip_h1_title": true,
   "title_cell": "Table of Contents",
   "title_sidebar": "Contents",
   "toc_cell": false,
   "toc_position": {},
   "toc_section_display": true,
   "toc_window_display": false
  }
 },
 "nbformat": 4,
 "nbformat_minor": 2
}
